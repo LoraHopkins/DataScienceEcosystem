{
 "cells": [
  {
   "cell_type": "markdown",
   "id": "d49df493-8632-4208-8d37-95a76e7981b8",
   "metadata": {},
   "source": [
    "# Data Science Tools and Ecosystem"
   ]
  },
  {
   "cell_type": "markdown",
   "id": "203eea71-dd5f-42af-9896-0f9d439af044",
   "metadata": {},
   "source": [
    "In this notebook, Data Science Tools and Ecosystem are summarized."
   ]
  },
  {
   "cell_type": "markdown",
   "id": "039eb7b5-9632-4e98-bb8f-64b7e5cae6fa",
   "metadata": {},
   "source": [
    "**Objectives**\n",
    "+ List popular languages for data scientists\n",
    "+ List popular libraries for data scientists\n",
    "+ List data science tools\n",
    "+ Give a few examples of evaluating arithmetic expressions"
   ]
  },
  {
   "cell_type": "markdown",
   "id": "014dae8a-bc7e-4846-951c-ba63a0bbbdbe",
   "metadata": {},
   "source": [
    "## Some of the popular languages that Data Scientists use are:\n",
    "    1. Python\n",
    "    2. R\n",
    "    3. SQL\n",
    "    4. Julia"
   ]
  },
  {
   "cell_type": "markdown",
   "id": "1cac7bc0-6854-4f73-a057-caa68dfeba20",
   "metadata": {},
   "source": [
    "## Some of the commonly used libraries used by Data Scientists include:"
   ]
  },
  {
   "cell_type": "markdown",
   "id": "82a6110e-c256-4c9f-a8d0-33f1e78ce502",
   "metadata": {},
   "source": [
    "### For Data Analysis:\n",
    "    1. NumPy\n",
    "    2. Pandas"
   ]
  },
  {
   "cell_type": "markdown",
   "id": "a118ed3e-8584-4f25-bf91-29cd913ca02f",
   "metadata": {
    "jp-MarkdownHeadingCollapsed": true
   },
   "source": [
    "### For Data Visualization:\n",
    "    1. Matplotlib\n",
    "    2. Seaborn\n",
    "    3. Plotly\n"
   ]
  },
  {
   "cell_type": "markdown",
   "id": "ea320aa8-077b-458f-a53a-7e0f5ac885b1",
   "metadata": {},
   "source": [
    "### For Machine Learning:\n",
    "    1. Scikit-learn\n",
    "    2. TensorFlow"
   ]
  },
  {
   "cell_type": "markdown",
   "id": "7c665a44-fb65-48ff-922f-f4fe775cd8d6",
   "metadata": {},
   "source": [
    "|Data Science Tools|\n",
    "--------------------\n",
    "|Jupyter Notebook|\n",
    "|RStudio|\n",
    "|Visual Studio Code|\n"
   ]
  },
  {
   "cell_type": "markdown",
   "id": "39a7c01d-dab7-4cc7-bead-91f1441e7128",
   "metadata": {},
   "source": [
    "### Below are a few examples of evaluating arithmetic expressions in Python "
   ]
  },
  {
   "cell_type": "code",
   "execution_count": 43,
   "id": "f0d500a2-2a64-4dc1-87c3-32777db6fc2b",
   "metadata": {},
   "outputs": [
    {
     "data": {
      "text/plain": [
       "17"
      ]
     },
     "execution_count": 43,
     "metadata": {},
     "output_type": "execute_result"
    }
   ],
   "source": [
    "#This is a simple arithmetic expression to multiply then add integers.\n",
    "(3*4)+5"
   ]
  },
  {
   "cell_type": "code",
   "execution_count": 51,
   "id": "8eb9aa79-6ea5-459f-aabc-e20265a316b7",
   "metadata": {},
   "outputs": [
    {
     "name": "stdout",
     "output_type": "stream",
     "text": [
      "There are  3.33 hours in 200 minutes.\n"
     ]
    }
   ],
   "source": [
    "#This will convert 200 minutes to hours by dividing by 60.\n",
    "hrs = 200 / 60\n",
    "hrsRounded = round(hrs, 2)\n",
    "print(\"There are \", hrsRounded , \"hours in 200 minutes.\")"
   ]
  },
  {
   "cell_type": "markdown",
   "id": "6d24ddf9-a2ec-4b00-a2f7-96fff5c3ee2a",
   "metadata": {},
   "source": [
    "## Author\n",
    "Lora Hopkins"
   ]
  },
  {
   "cell_type": "code",
   "execution_count": null,
   "id": "8e56bfd7-276a-4425-86ce-27e5a4b82952",
   "metadata": {},
   "outputs": [],
   "source": []
  }
 ],
 "metadata": {
  "kernelspec": {
   "display_name": "Python 3 (ipykernel)",
   "language": "python",
   "name": "python3"
  },
  "language_info": {
   "codemirror_mode": {
    "name": "ipython",
    "version": 3
   },
   "file_extension": ".py",
   "mimetype": "text/x-python",
   "name": "python",
   "nbconvert_exporter": "python",
   "pygments_lexer": "ipython3",
   "version": "3.12.4"
  }
 },
 "nbformat": 4,
 "nbformat_minor": 5
}
